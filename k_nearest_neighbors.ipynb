{
  "nbformat": 4,
  "nbformat_minor": 0,
  "metadata": {
    "colab": {
      "provenance": [],
      "authorship_tag": "ABX9TyNXcIoKcN3howIhiOyiCO/P",
      "include_colab_link": true
    },
    "kernelspec": {
      "name": "python3",
      "display_name": "Python 3"
    },
    "language_info": {
      "name": "python"
    }
  },
  "cells": [
    {
      "cell_type": "markdown",
      "metadata": {
        "id": "view-in-github",
        "colab_type": "text"
      },
      "source": [
        "<a href=\"https://colab.research.google.com/github/AshishBamba05/AttriSense/blob/main/k_nearest_neighbors.ipynb\" target=\"_parent\"><img src=\"https://colab.research.google.com/assets/colab-badge.svg\" alt=\"Open In Colab\"/></a>"
      ]
    },
    {
      "cell_type": "code",
      "execution_count": null,
      "metadata": {
        "id": "7uRlybvfwobH"
      },
      "outputs": [],
      "source": [
        "from sklearn.model_selection import train_test_split\n",
        "from sklearn.neighbors import KNeighborsClassifier\n",
        "import pandas as pd"
      ]
    },
    {
      "cell_type": "code",
      "source": [
        "# Mount Google drive\n",
        "\n",
        "from google.colab import drive\n",
        "drive.mount('/content/drive')\n",
        "\n",
        "df = pd.read_csv('/content/drive/MyDrive/AttriCast/employee_attrition_data.csv')\n",
        "df.head()\n",
        ""
      ],
      "metadata": {
        "id": "9RdHRlvww3UE"
      },
      "execution_count": null,
      "outputs": []
    },
    {
      "cell_type": "code",
      "source": [
        "# One-hot encoding of Work\n",
        "\n",
        "one_hot = pd.get_dummies(\n",
        "    df,\n",
        "    columns=['work_type', 'gender', 'smoking_status', 'Residence_type', 'ever_married'],\n",
        "    prefix=['work', 'gender', 'smoking', 'Residence', 'marriage']\n",
        ")\n",
        "df = one_hot\n",
        "df = df.fillna(df.median(numeric_only=True))"
      ],
      "metadata": {
        "id": "0BHVTK9Cw3xp"
      },
      "execution_count": null,
      "outputs": []
    },
    {
      "cell_type": "code",
      "source": [
        "# KNN Classification\n",
        "\n",
        "KNN = KNeighborsClassifier(n_neighbors = 9)\n",
        "KNN.fit(X_train, y_train)\n",
        "y_test = KNN.predict(X_test)"
      ],
      "metadata": {
        "id": "tpmo8RHxB8rj"
      },
      "execution_count": null,
      "outputs": []
    }
  ]
}