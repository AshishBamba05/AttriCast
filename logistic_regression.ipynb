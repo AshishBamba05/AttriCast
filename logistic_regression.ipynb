{
  "nbformat": 4,
  "nbformat_minor": 0,
  "metadata": {
    "colab": {
      "provenance": [],
      "authorship_tag": "ABX9TyMNoqZ+3PDLz9n+H0Ywm0i2",
      "include_colab_link": true
    },
    "kernelspec": {
      "name": "python3",
      "display_name": "Python 3"
    },
    "language_info": {
      "name": "python"
    }
  },
  "cells": [
    {
      "cell_type": "markdown",
      "metadata": {
        "id": "view-in-github",
        "colab_type": "text"
      },
      "source": [
        "<a href=\"https://colab.research.google.com/github/AshishBamba05/AttriCast/blob/main/logistic_regression.ipynb\" target=\"_parent\"><img src=\"https://colab.research.google.com/assets/colab-badge.svg\" alt=\"Open In Colab\"/></a>"
      ]
    },
    {
      "cell_type": "code",
      "execution_count": null,
      "metadata": {
        "id": "AuppcRchEyJq"
      },
      "outputs": [],
      "source": [
        "from sklearn.linear_model import LogisticRegression\n",
        "from sklearn.model_selection import train_test_split\n",
        "import pandas as pd"
      ]
    },
    {
      "cell_type": "code",
      "source": [
        "# Mount Google drive\n",
        "\n",
        "from google.colab import drive\n",
        "drive.mount('/content/drive')\n",
        "\n",
        "df = pd.read_csv('/content/drive/MyDrive/AttriCast/employee_attrition_data.csv')\n",
        "df.head()"
      ],
      "metadata": {
        "id": "K549hf7cORGY"
      },
      "execution_count": null,
      "outputs": []
    },
    {
      "cell_type": "code",
      "source": [
        "# One-hot encoding of Work\n",
        "\n",
        "one_hot = pd.get_dummies(\n",
        "    df,\n",
        "    columns=['Department', 'Gender', 'Job_Title'],\n",
        "    prefix=['department', 'gender', 'job_title']\n",
        ")\n",
        "df = one_hot\n",
        "df = df.fillna(df.median(numeric_only=True))"
      ],
      "metadata": {
        "id": "-UwsMc8uORNJ"
      },
      "execution_count": null,
      "outputs": []
    },
    {
      "cell_type": "code",
      "source": [
        "# Define X and y\n",
        "\n",
        "X = df.drop([\"Attrition\", \"Employee_ID\"], axis = 1)\n",
        "y = df[\"Attrition\"]"
      ],
      "metadata": {
        "id": "PL_AFCeuORQA"
      },
      "execution_count": null,
      "outputs": []
    },
    {
      "cell_type": "code",
      "source": [
        "# Train-Test Spliting\n",
        "\n",
        "X_train, X_test, y_train, y_test = train_test_split(X, y, test_size=0.2, random_state=42)"
      ],
      "metadata": {
        "id": "kmqgnIKyOnD8"
      },
      "execution_count": null,
      "outputs": []
    },
    {
      "cell_type": "code",
      "source": [
        "# Scaling dominant numeric features\n",
        "\n",
        "to_scale = ['Age', 'Years_at_Company', 'Average_Monthly_Hours', 'Salary']\n",
        "not_scaled = [col for col in X.columns if col not in to_scale]\n",
        "\n",
        "# Scale only selected columns\n",
        "scaled_part = scaler.fit_transform(X[to_scale])\n",
        "scaled_df = pd.DataFrame(scaled_part, columns=to_scale)\n",
        "\n",
        "# Combine with unscaled part\n",
        "X_final = pd.concat([scaled_df, X[not_scaled].reset_index(drop=True)], axis=1)"
      ],
      "metadata": {
        "id": "rMTWui_8OnOk"
      },
      "execution_count": null,
      "outputs": []
    },
    {
      "cell_type": "code",
      "source": [
        "# Initialize the model\n",
        "logreg = LogisticRegression(max_iter=1000, random_state=42)\n",
        "\n",
        "\n",
        "logreg.fit(X_train, y_train)\n",
        "y_test = logreg.predict(X_test)\n"
      ],
      "metadata": {
        "id": "z0xFhOXRO2MY"
      },
      "execution_count": null,
      "outputs": []
    }
  ]
}